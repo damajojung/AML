{
 "cells": [
  {
   "cell_type": "markdown",
   "id": "5d1566c3",
   "metadata": {},
   "source": [
    "# Playground AML"
   ]
  },
  {
   "cell_type": "code",
   "execution_count": 4,
   "id": "f4135f44",
   "metadata": {},
   "outputs": [],
   "source": [
    "from __future__ import print_function, absolute_import, division # You don't need to know what this is. \n",
    "import numpy as np # this imports numpy, which is used for vector- and matrix calculations\n",
    "import pandas as pd"
   ]
  },
  {
   "cell_type": "markdown",
   "id": "ce998b23",
   "metadata": {},
   "source": [
    "### Linear mapping"
   ]
  },
  {
   "cell_type": "code",
   "execution_count": 5,
   "id": "3d98fb30",
   "metadata": {},
   "outputs": [],
   "source": [
    "def linear_forward(x_input, W, b):\n",
    "    \"\"\"Perform the mapping of the input\n",
    "    # Arguments\n",
    "        x_input: input of the linear function - np.array of size `(n_objects, n_in)`\n",
    "        W: np.array of size `(n_in, n_out)`\n",
    "        b: np.array of size `(n_out,)`\n",
    "    # Output\n",
    "        the output of the linear function \n",
    "        np.array of size `(n_objects, n_out)`\n",
    "    \"\"\"\n",
    "    output = np.add(np.dot(x_input, W),b)\n",
    "    return output"
   ]
  },
  {
   "cell_type": "code",
   "execution_count": 6,
   "id": "5dac5c68",
   "metadata": {},
   "outputs": [
    {
     "name": "stdout",
     "output_type": "stream",
     "text": [
      "(3, 2)\n",
      "(2, 1)\n",
      "(1,)\n"
     ]
    }
   ],
   "source": [
    "X_test = np.array([[1, -1],\n",
    "                   [-1, 0],\n",
    "                   [1, 1]])\n",
    "\n",
    "W_test = np.array([[4],\n",
    "                   [2]])\n",
    "\n",
    "b_test = np.array([3])\n",
    "\n",
    "print(X_test.shape)\n",
    "print(W_test.shape)\n",
    "print(b_test.shape)\n"
   ]
  },
  {
   "cell_type": "code",
   "execution_count": 7,
   "id": "ed0c75bd",
   "metadata": {},
   "outputs": [
    {
     "data": {
      "text/plain": [
       "array([[ 5],\n",
       "       [-1],\n",
       "       [ 9]])"
      ]
     },
     "execution_count": 7,
     "metadata": {},
     "output_type": "execute_result"
    }
   ],
   "source": [
    "test = linear_forward(X_test, W_test, b_test)\n",
    "test"
   ]
  },
  {
   "cell_type": "code",
   "execution_count": 5,
   "id": "34f9d4dc",
   "metadata": {},
   "outputs": [
    {
     "data": {
      "text/plain": [
       "(3, 1)"
      ]
     },
     "execution_count": 5,
     "metadata": {},
     "output_type": "execute_result"
    }
   ],
   "source": [
    "test.shape"
   ]
  },
  {
   "cell_type": "markdown",
   "id": "8f5200d8",
   "metadata": {},
   "source": [
    "### Linear Grad W"
   ]
  },
  {
   "cell_type": "code",
   "execution_count": 8,
   "id": "9b4a6b74",
   "metadata": {},
   "outputs": [],
   "source": [
    "X_test = np.array([[ 3.52700412, -5.26063245, -1.44725797, -1.75845931,  7.17111801 , 6.98000586],\n",
    "                  [ 0.96428013, -5.39966807 , 0.11565689 , 7.52925355 ,-8.42978878 ,-5.65760436],\n",
    "                  [ 7.66748717 , 8.04351906, -5.27123896 , 5.78939988 , 4.26351951, -4.11783328]])\n",
    "\n",
    "W_test = np.array([[-7.19425403],\n",
    "     [ 0.52886574],\n",
    "     [-7.19402885],\n",
    "     [ 6.96126278],\n",
    "     [ 1.7717694 ],\n",
    "     [ 4.46366547]])\n",
    "\n",
    "b_test = np.array( [-5.06889404])\n",
    "\n",
    "grad_out = np.array([[1.84038361],\n",
    "                    [8.87623311],\n",
    "                     [3.63320643]])\n",
    "\n"
   ]
  },
  {
   "cell_type": "code",
   "execution_count": 7,
   "id": "a79f68c6",
   "metadata": {},
   "outputs": [
    {
     "name": "stdout",
     "output_type": "stream",
     "text": [
      "X (3, 6)\n",
      "W (6, 1)\n",
      "b (1,)\n",
      "grad (3, 1)\n"
     ]
    }
   ],
   "source": [
    "print(\"X\", X_test.shape)\n",
    "print(\"W\", W_test.shape)\n",
    "print(\"b\", b_test.shape)\n",
    "print(\"grad\", grad_out.shape)"
   ]
  },
  {
   "cell_type": "code",
   "execution_count": 8,
   "id": "9c06ffe1",
   "metadata": {},
   "outputs": [
    {
     "data": {
      "text/plain": [
       "array([[ 8.80727092],\n",
       "       [-3.47009124],\n",
       "       [11.41951938]])"
      ]
     },
     "execution_count": 8,
     "metadata": {},
     "output_type": "execute_result"
    }
   ],
   "source": [
    "test1 = linear_forward(X_test, W_test, b_test)\n",
    "test1"
   ]
  },
  {
   "cell_type": "code",
   "execution_count": 9,
   "id": "7e51cb62",
   "metadata": {},
   "outputs": [
    {
     "data": {
      "text/plain": [
       "(3, 1)"
      ]
     },
     "execution_count": 9,
     "metadata": {},
     "output_type": "execute_result"
    }
   ],
   "source": [
    "test1.shape"
   ]
  },
  {
   "cell_type": "code",
   "execution_count": 10,
   "id": "8100276f",
   "metadata": {},
   "outputs": [
    {
     "data": {
      "text/plain": [
       "array([[  6.49104057,  -9.68158174,  -2.66350985,  -3.23623969,\n",
       "         13.19760805,  12.84588838],\n",
       "       [  8.55917522, -47.92871251,   1.02659752,  66.83140965,\n",
       "        -74.82477028, -50.21821514],\n",
       "       [ 27.85756369,  29.22376517, -19.15149928,  21.03408487,\n",
       "         15.4902465 , -14.96093835]])"
      ]
     },
     "execution_count": 10,
     "metadata": {},
     "output_type": "execute_result"
    }
   ],
   "source": [
    "grad_out * X_test"
   ]
  },
  {
   "cell_type": "code",
   "execution_count": 11,
   "id": "37f08975",
   "metadata": {},
   "outputs": [
    {
     "data": {
      "text/plain": [
       "array([[  6.96688731],\n",
       "       [-12.34632435],\n",
       "       [  7.78631295]])"
      ]
     },
     "execution_count": 11,
     "metadata": {},
     "output_type": "execute_result"
    }
   ],
   "source": [
    "test2 = np.subtract(test1,grad_out)\n",
    "test2"
   ]
  },
  {
   "cell_type": "code",
   "execution_count": 12,
   "id": "a4608f80",
   "metadata": {},
   "outputs": [
    {
     "data": {
      "text/plain": [
       "array([[ 72.36837968],\n",
       "       [ 92.64517658],\n",
       "       [-52.55433686],\n",
       "       [-60.131515  ],\n",
       "       [187.23437472],\n",
       "       [ 86.41679409]])"
      ]
     },
     "execution_count": 12,
     "metadata": {},
     "output_type": "execute_result"
    }
   ],
   "source": [
    "test3 = np.transpose(X_test).dot(test2)\n",
    "test3"
   ]
  },
  {
   "cell_type": "code",
   "execution_count": 13,
   "id": "5b656dab",
   "metadata": {},
   "outputs": [
    {
     "data": {
      "text/plain": [
       "(6, 1)"
      ]
     },
     "execution_count": 13,
     "metadata": {},
     "output_type": "execute_result"
    }
   ],
   "source": [
    "test3.shape"
   ]
  },
  {
   "cell_type": "code",
   "execution_count": 14,
   "id": "2bc0c9a6",
   "metadata": {},
   "outputs": [
    {
     "data": {
      "text/plain": [
       "6.0"
      ]
     },
     "execution_count": 14,
     "metadata": {},
     "output_type": "execute_result"
    }
   ],
   "source": [
    "np.log(np.exp(6))"
   ]
  },
  {
   "cell_type": "code",
   "execution_count": 15,
   "id": "167d46c7",
   "metadata": {},
   "outputs": [],
   "source": [
    "a = np.array([[4],\n",
    "            [2]])\n",
    "\n",
    "b = np.array([[3],\n",
    "            [2]])"
   ]
  },
  {
   "cell_type": "code",
   "execution_count": 16,
   "id": "616dd10e",
   "metadata": {},
   "outputs": [
    {
     "data": {
      "text/plain": [
       "array([[12],\n",
       "       [ 4]])"
      ]
     },
     "execution_count": 16,
     "metadata": {},
     "output_type": "execute_result"
    }
   ],
   "source": [
    "np.multiply(a,b)"
   ]
  },
  {
   "cell_type": "code",
   "execution_count": 17,
   "id": "4922dc31",
   "metadata": {},
   "outputs": [
    {
     "data": {
      "text/plain": [
       "2"
      ]
     },
     "execution_count": 17,
     "metadata": {},
     "output_type": "execute_result"
    }
   ],
   "source": [
    "a.size"
   ]
  },
  {
   "cell_type": "code",
   "execution_count": 18,
   "id": "dca3735b",
   "metadata": {},
   "outputs": [],
   "source": [
    "a = np.array([[-1.],\n",
    " [-3.],\n",
    " [1.],\n",
    " [4.],\n",
    " [20.],\n",
    " [-21.],\n",
    " [0.],\n",
    " [1.],\n",
    " [3.],\n",
    " [-2.],\n",
    " [1.]])"
   ]
  },
  {
   "cell_type": "code",
   "execution_count": 19,
   "id": "aa394b48",
   "metadata": {},
   "outputs": [
    {
     "data": {
      "text/plain": [
       "array([-21.])"
      ]
     },
     "execution_count": 19,
     "metadata": {},
     "output_type": "execute_result"
    }
   ],
   "source": [
    "a[np.argmin(a)]"
   ]
  },
  {
   "cell_type": "code",
   "execution_count": 43,
   "id": "0b0e3720",
   "metadata": {},
   "outputs": [],
   "source": [
    "X = np.array([[-5.15396609, -6.29406452],\n",
    " [-7.86516278,  7.82321484],\n",
    " [-4.0106841 ,  1.73861527],\n",
    " [-2.15348225, -4.51898921],\n",
    " [ 9.55703099, -4.0612693 ],\n",
    " [ 8.63890007 ,-1.79864081],\n",
    " [-6.52169324, -6.19049942],\n",
    " [ 1.8203589 ,  5.37819601],\n",
    " [ 6.27816448, -3.69200738]])\n",
    "\n",
    "Y = np.array([[0.],\n",
    " [0.],\n",
    " [1.],\n",
    " [0.],\n",
    " [0.],\n",
    " [0.],\n",
    " [0.],\n",
    " [1.],\n",
    " [0.]])\n",
    "\n",
    "feature_index = 1\n",
    "split_value = -2.745324097923354"
   ]
  },
  {
   "cell_type": "code",
   "execution_count": 21,
   "id": "90f028d8",
   "metadata": {},
   "outputs": [],
   "source": [
    "#Y_list = []\n",
    "#for i in np.arange(X.shape[1]):\n",
    "#    ind = X[:,i] < split_value\n",
    "#    print(X[ind, i])\n",
    "#    print(Y[ind])\n",
    "#    Y_ind += Y[ind]"
   ]
  },
  {
   "cell_type": "code",
   "execution_count": 62,
   "id": "24ebfab7",
   "metadata": {},
   "outputs": [],
   "source": [
    "bla = X[0,]"
   ]
  },
  {
   "cell_type": "code",
   "execution_count": 64,
   "id": "e6e468eb",
   "metadata": {},
   "outputs": [
    {
     "data": {
      "text/plain": [
       "numpy.ndarray"
      ]
     },
     "execution_count": 64,
     "metadata": {},
     "output_type": "execute_result"
    }
   ],
   "source": [
    "type(bla)"
   ]
  },
  {
   "cell_type": "code",
   "execution_count": null,
   "id": "6e61d236",
   "metadata": {},
   "outputs": [],
   "source": []
  },
  {
   "cell_type": "code",
   "execution_count": 23,
   "id": "689ebfbe",
   "metadata": {},
   "outputs": [],
   "source": [
    "xs = X[X < split_value]"
   ]
  },
  {
   "cell_type": "code",
   "execution_count": 24,
   "id": "e4d5f005",
   "metadata": {},
   "outputs": [],
   "source": [
    "for i in np.arange(X.shape[1]):\n",
    "    #print(X[:,i])\n",
    "    #print([X[:,i] < split_value])\n",
    "    ind = [X[:,i] < split_value]\n",
    "    #print(Y[tuple(ind)])\n",
    "    if i == 0:\n",
    "        ys = Y[tuple(ind)]\n",
    "    else:\n",
    "        current = Y[tuple(ind)]\n",
    "        ys = np.vstack([ys,current])"
   ]
  },
  {
   "cell_type": "code",
   "execution_count": 25,
   "id": "f44ec5bb",
   "metadata": {},
   "outputs": [
    {
     "name": "stdout",
     "output_type": "stream",
     "text": [
      "[-5.15396609 -6.29406452 -7.86516278 -4.0106841  -4.51898921 -4.0612693\n",
      " -6.52169324 -6.19049942 -3.69200738] [[0.]\n",
      " [0.]\n",
      " [1.]\n",
      " [0.]\n",
      " [0.]\n",
      " [0.]\n",
      " [0.]\n",
      " [0.]\n",
      " [0.]]\n"
     ]
    }
   ],
   "source": [
    "print(xs, ys)"
   ]
  },
  {
   "cell_type": "code",
   "execution_count": 26,
   "id": "cd57208b",
   "metadata": {},
   "outputs": [
    {
     "data": {
      "text/plain": [
       "(9,)"
      ]
     },
     "execution_count": 26,
     "metadata": {},
     "output_type": "execute_result"
    }
   ],
   "source": [
    "xs.shape"
   ]
  },
  {
   "cell_type": "code",
   "execution_count": 27,
   "id": "b8db5454",
   "metadata": {},
   "outputs": [
    {
     "data": {
      "text/plain": [
       "(9, 1)"
      ]
     },
     "execution_count": 27,
     "metadata": {},
     "output_type": "execute_result"
    }
   ],
   "source": [
    "ys.shape"
   ]
  },
  {
   "cell_type": "code",
   "execution_count": 28,
   "id": "2379f821",
   "metadata": {},
   "outputs": [],
   "source": [
    "ys = ys.reshape(X.shape[0],1)"
   ]
  },
  {
   "cell_type": "code",
   "execution_count": 29,
   "id": "d2414bcd",
   "metadata": {},
   "outputs": [
    {
     "data": {
      "text/plain": [
       "(9, 1)"
      ]
     },
     "execution_count": 29,
     "metadata": {},
     "output_type": "execute_result"
    }
   ],
   "source": [
    "ys.shape"
   ]
  },
  {
   "cell_type": "code",
   "execution_count": 30,
   "id": "b6dee8f3",
   "metadata": {},
   "outputs": [],
   "source": [
    "xs = xs.reshape(X.shape[0],1)"
   ]
  },
  {
   "cell_type": "code",
   "execution_count": 31,
   "id": "58c9916e",
   "metadata": {},
   "outputs": [
    {
     "data": {
      "text/plain": [
       "(9, 1)"
      ]
     },
     "execution_count": 31,
     "metadata": {},
     "output_type": "execute_result"
    }
   ],
   "source": [
    "xs.shape"
   ]
  },
  {
   "cell_type": "code",
   "execution_count": 32,
   "id": "604549d8",
   "metadata": {},
   "outputs": [
    {
     "data": {
      "text/plain": [
       "array([[-5.15396609,  0.        ],\n",
       "       [-6.29406452,  0.        ],\n",
       "       [-7.86516278,  1.        ],\n",
       "       [-4.0106841 ,  0.        ],\n",
       "       [-4.51898921,  0.        ],\n",
       "       [-4.0612693 ,  0.        ],\n",
       "       [-6.52169324,  0.        ],\n",
       "       [-6.19049942,  0.        ],\n",
       "       [-3.69200738,  0.        ]])"
      ]
     },
     "execution_count": 32,
     "metadata": {},
     "output_type": "execute_result"
    }
   ],
   "source": [
    "np.concatenate([xs, ys], axis=-1)"
   ]
  },
  {
   "cell_type": "code",
   "execution_count": 58,
   "id": "fa187e9d",
   "metadata": {},
   "outputs": [],
   "source": [
    "a = np.array([[0.],\n",
    " [0.],\n",
    " [1.],\n",
    " [0.]])\n",
    "\n",
    "b = np.array([[0.],\n",
    " [0.],\n",
    " [1.],\n",
    " [0.]])"
   ]
  },
  {
   "cell_type": "code",
   "execution_count": 59,
   "id": "c6808e78",
   "metadata": {},
   "outputs": [],
   "source": [
    "a = a.reshape(4,)\n",
    "b = b.reshape(4,)"
   ]
  },
  {
   "cell_type": "code",
   "execution_count": null,
   "id": "8e647c50",
   "metadata": {},
   "outputs": [],
   "source": []
  },
  {
   "cell_type": "code",
   "execution_count": 61,
   "id": "06d34c2b",
   "metadata": {},
   "outputs": [
    {
     "data": {
      "text/plain": [
       "array([[0., 0., 1., 0.],\n",
       "       [0., 0., 1., 0.]])"
      ]
     },
     "execution_count": 61,
     "metadata": {},
     "output_type": "execute_result"
    }
   ],
   "source": [
    "np.vstack([a,b])"
   ]
  },
  {
   "cell_type": "code",
   "execution_count": 36,
   "id": "5eeeedf1",
   "metadata": {},
   "outputs": [
    {
     "data": {
      "text/plain": [
       "(9, 2)"
      ]
     },
     "execution_count": 36,
     "metadata": {},
     "output_type": "execute_result"
    }
   ],
   "source": [
    "X.shape"
   ]
  },
  {
   "cell_type": "code",
   "execution_count": 40,
   "id": "6e829e8b",
   "metadata": {},
   "outputs": [],
   "source": [
    "emp_arr = np.empty(dat.shape)"
   ]
  },
  {
   "cell_type": "code",
   "execution_count": 39,
   "id": "afe9beca",
   "metadata": {},
   "outputs": [
    {
     "data": {
      "text/plain": [
       "(9, 3)"
      ]
     },
     "execution_count": 39,
     "metadata": {},
     "output_type": "execute_result"
    }
   ],
   "source": [
    "dat = np.concatenate([X, Y], axis=-1)\n",
    "dat.shape"
   ]
  },
  {
   "cell_type": "code",
   "execution_count": null,
   "id": "106480cc",
   "metadata": {},
   "outputs": [],
   "source": [
    "for feature_index in range(X.shape[1]):\n",
    "    for rind in np.arange(X.shape[0]):\n",
    "        if X[rind, feature_index] < split_value:\n",
    "            if rind\n",
    "            emp_arr[rind, ] = dat[rind, :]"
   ]
  },
  {
   "cell_type": "code",
   "execution_count": 42,
   "id": "ebe7133f",
   "metadata": {},
   "outputs": [
    {
     "data": {
      "text/plain": [
       "array([[-0.00000000e+000,  1.73060448e-077,  7.90505033e-323],\n",
       "       [ 0.00000000e+000,  0.00000000e+000,  0.00000000e+000],\n",
       "       [ 0.00000000e+000,  0.00000000e+000,  0.00000000e+000],\n",
       "       [ 0.00000000e+000,  0.00000000e+000,  0.00000000e+000],\n",
       "       [ 0.00000000e+000,  0.00000000e+000, -0.00000000e+000],\n",
       "       [-0.00000000e+000, -4.44659081e-323, -0.00000000e+000],\n",
       "       [ 3.95252517e-323,  0.00000000e+000,  0.00000000e+000],\n",
       "       [ 0.00000000e+000,  0.00000000e+000,  0.00000000e+000],\n",
       "       [ 0.00000000e+000,  0.00000000e+000,  0.00000000e+000]])"
      ]
     },
     "execution_count": 42,
     "metadata": {},
     "output_type": "execute_result"
    }
   ],
   "source": [
    "emp_arr"
   ]
  },
  {
   "cell_type": "code",
   "execution_count": null,
   "id": "449ea624",
   "metadata": {},
   "outputs": [],
   "source": [
    "type(emp_arr)"
   ]
  },
  {
   "cell_type": "code",
   "execution_count": 35,
   "id": "8e2c1a6f",
   "metadata": {},
   "outputs": [],
   "source": [
    "X = np.array([[-1, 2],\n",
    " [3,  4]])\n",
    "\n",
    "Y = np.array([[0.],\n",
    " [1.]])\n",
    "\n",
    "feature_index = 0\n",
    "split_value = 0"
   ]
  },
  {
   "cell_type": "code",
   "execution_count": 36,
   "id": "085bfaa0",
   "metadata": {},
   "outputs": [
    {
     "name": "stdout",
     "output_type": "stream",
     "text": [
      "-1\n",
      "hi\n"
     ]
    },
    {
     "ename": "NameError",
     "evalue": "name 'dat' is not defined",
     "output_type": "error",
     "traceback": [
      "\u001b[0;31m---------------------------------------------------------------------------\u001b[0m",
      "\u001b[0;31mNameError\u001b[0m                                 Traceback (most recent call last)",
      "\u001b[0;32m<ipython-input-36-77fbae2608f5>\u001b[0m in \u001b[0;36m<module>\u001b[0;34m\u001b[0m\n\u001b[1;32m      4\u001b[0m             \u001b[0mprint\u001b[0m\u001b[0;34m(\u001b[0m\u001b[0;34m\"hi\"\u001b[0m\u001b[0;34m)\u001b[0m\u001b[0;34m\u001b[0m\u001b[0;34m\u001b[0m\u001b[0m\n\u001b[0;32m----> 5\u001b[0;31m             \u001b[0;32mtry\u001b[0m\u001b[0;34m:\u001b[0m \u001b[0mXY_left\u001b[0m\u001b[0;34m\u001b[0m\u001b[0;34m\u001b[0m\u001b[0m\n\u001b[0m\u001b[1;32m      6\u001b[0m             \u001b[0;32mexcept\u001b[0m \u001b[0mNameError\u001b[0m\u001b[0;34m:\u001b[0m \u001b[0mXY_left\u001b[0m \u001b[0;34m=\u001b[0m \u001b[0mdat\u001b[0m\u001b[0;34m[\u001b[0m\u001b[0mrind\u001b[0m\u001b[0;34m,\u001b[0m \u001b[0;34m:\u001b[0m\u001b[0;34m]\u001b[0m\u001b[0;34m\u001b[0m\u001b[0;34m\u001b[0m\u001b[0m\n",
      "\u001b[0;31mNameError\u001b[0m: name 'XY_left' is not defined",
      "\nDuring handling of the above exception, another exception occurred:\n",
      "\u001b[0;31mNameError\u001b[0m                                 Traceback (most recent call last)",
      "\u001b[0;32m<ipython-input-36-77fbae2608f5>\u001b[0m in \u001b[0;36m<module>\u001b[0;34m\u001b[0m\n\u001b[1;32m      4\u001b[0m             \u001b[0mprint\u001b[0m\u001b[0;34m(\u001b[0m\u001b[0;34m\"hi\"\u001b[0m\u001b[0;34m)\u001b[0m\u001b[0;34m\u001b[0m\u001b[0;34m\u001b[0m\u001b[0m\n\u001b[1;32m      5\u001b[0m             \u001b[0;32mtry\u001b[0m\u001b[0;34m:\u001b[0m \u001b[0mXY_left\u001b[0m\u001b[0;34m\u001b[0m\u001b[0;34m\u001b[0m\u001b[0m\n\u001b[0;32m----> 6\u001b[0;31m             \u001b[0;32mexcept\u001b[0m \u001b[0mNameError\u001b[0m\u001b[0;34m:\u001b[0m \u001b[0mXY_left\u001b[0m \u001b[0;34m=\u001b[0m \u001b[0mdat\u001b[0m\u001b[0;34m[\u001b[0m\u001b[0mrind\u001b[0m\u001b[0;34m,\u001b[0m \u001b[0;34m:\u001b[0m\u001b[0;34m]\u001b[0m\u001b[0;34m\u001b[0m\u001b[0;34m\u001b[0m\u001b[0m\n\u001b[0m\u001b[1;32m      7\u001b[0m             \u001b[0;32melse\u001b[0m\u001b[0;34m:\u001b[0m \u001b[0mXY_left\u001b[0m \u001b[0;34m=\u001b[0m \u001b[0mnp\u001b[0m\u001b[0;34m.\u001b[0m\u001b[0mvstack\u001b[0m\u001b[0;34m(\u001b[0m\u001b[0;34m[\u001b[0m\u001b[0mXY_left\u001b[0m\u001b[0;34m,\u001b[0m \u001b[0mdat\u001b[0m\u001b[0;34m[\u001b[0m\u001b[0mrind\u001b[0m\u001b[0;34m,\u001b[0m \u001b[0;34m:\u001b[0m\u001b[0;34m]\u001b[0m \u001b[0;34m]\u001b[0m\u001b[0;34m)\u001b[0m\u001b[0;34m\u001b[0m\u001b[0;34m\u001b[0m\u001b[0m\n",
      "\u001b[0;31mNameError\u001b[0m: name 'dat' is not defined"
     ]
    }
   ],
   "source": [
    "for rind in np.arange(X.shape[0]):\n",
    "        print(X[rind, feature_index])\n",
    "        if X[rind, feature_index] < split_value:\n",
    "            print(\"hi\")\n",
    "            try: XY_left\n",
    "            except NameError: XY_left = dat[rind, :]\n",
    "            else: XY_left = np.vstack([XY_left, dat[rind, :] ])"
   ]
  },
  {
   "cell_type": "code",
   "execution_count": 39,
   "id": "4924405c",
   "metadata": {},
   "outputs": [],
   "source": [
    " \n",
    "try:\n",
    "    XY_left\n",
    "    XY_left = np.vstack([XY_left, dat[rind, :] ])\n",
    "except NameError:\n",
    "    XY_left = dat[rind, :]"
   ]
  },
  {
   "cell_type": "code",
   "execution_count": 44,
   "id": "ce48895e",
   "metadata": {},
   "outputs": [],
   "source": [
    "def tree_split_data_left(X, Y, feature_index, split_value):\n",
    "    dat = np.concatenate([X, Y], axis=-1)\n",
    "    \n",
    "    '''' Attempt 1\n",
    "    for rind in np.arange(X.shape[0]):\n",
    "        if X[rind, feature_index] < split_value:\n",
    "            if rind == 0:\n",
    "                XY_left = dat[rind, :]\n",
    "            else:\n",
    "                current = dat[rind, :]\n",
    "                XY_left = np.vstack([XY_left,current])\n",
    "    '''\n",
    "    \n",
    "    for rind in np.arange(X.shape[0]):\n",
    "        if X[rind, feature_index] < split_value:\n",
    "            try:\n",
    "                XY_left\n",
    "                XY_left = np.vstack([XY_left, dat[rind, :] ])\n",
    "            except NameError:\n",
    "                XY_left = dat[rind, :]\n",
    "    \n",
    "    return XY_left\n"
   ]
  },
  {
   "cell_type": "code",
   "execution_count": 53,
   "id": "54b3e600",
   "metadata": {},
   "outputs": [],
   "source": [
    "test = tree_split_data_left(X, Y, 1, 0)"
   ]
  },
  {
   "cell_type": "code",
   "execution_count": 54,
   "id": "c4b62c3a",
   "metadata": {},
   "outputs": [
    {
     "data": {
      "text/plain": [
       "array([[-5.15396609, -6.29406452,  0.        ],\n",
       "       [-2.15348225, -4.51898921,  0.        ],\n",
       "       [ 9.55703099, -4.0612693 ,  0.        ],\n",
       "       [ 8.63890007, -1.79864081,  0.        ],\n",
       "       [-6.52169324, -6.19049942,  0.        ],\n",
       "       [ 6.27816448, -3.69200738,  0.        ]])"
      ]
     },
     "execution_count": 54,
     "metadata": {},
     "output_type": "execute_result"
    }
   ],
   "source": [
    "test"
   ]
  },
  {
   "cell_type": "code",
   "execution_count": 55,
   "id": "0cbde7e3",
   "metadata": {},
   "outputs": [
    {
     "data": {
      "text/plain": [
       "array([[-5.15396609, -6.29406452],\n",
       "       [-7.86516278,  7.82321484],\n",
       "       [-4.0106841 ,  1.73861527],\n",
       "       [-2.15348225, -4.51898921],\n",
       "       [ 9.55703099, -4.0612693 ],\n",
       "       [ 8.63890007, -1.79864081],\n",
       "       [-6.52169324, -6.19049942],\n",
       "       [ 1.8203589 ,  5.37819601],\n",
       "       [ 6.27816448, -3.69200738]])"
      ]
     },
     "execution_count": 55,
     "metadata": {},
     "output_type": "execute_result"
    }
   ],
   "source": [
    "X"
   ]
  },
  {
   "cell_type": "code",
   "execution_count": null,
   "id": "cd623747",
   "metadata": {},
   "outputs": [],
   "source": [
    "Y = np.array([[0.],\n",
    " [0.],\n",
    " [0.],\n",
    " [0.],\n",
    " [0.],\n",
    " [1.],\n",
    " [1.],\n",
    " [0.],\n",
    " [1.],\n",
    " [1.],\n",
    " [1.],\n",
    " [1.],\n",
    " [1.],\n",
    " [1.],\n",
    " [0.],\n",
    " [1.],\n",
    " [0.],\n",
    " [1.],\n",
    " [1.]])"
   ]
  },
  {
   "cell_type": "code",
   "execution_count": null,
   "id": "3a2b7a7b",
   "metadata": {},
   "outputs": [],
   "source": [
    "t = 0\n",
    "n = Y.shape[0]\n",
    "for i in Y:\n",
    "    t += i"
   ]
  },
  {
   "cell_type": "code",
   "execution_count": null,
   "id": "2c2868c3",
   "metadata": {},
   "outputs": [],
   "source": [
    "t/n > 0.5"
   ]
  },
  {
   "cell_type": "code",
   "execution_count": 40,
   "id": "4335d040",
   "metadata": {},
   "outputs": [
    {
     "data": {
      "text/plain": [
       "345"
      ]
     },
     "execution_count": 40,
     "metadata": {},
     "output_type": "execute_result"
    }
   ],
   "source": [
    "A"
   ]
  }
 ],
 "metadata": {
  "kernelspec": {
   "display_name": "Python 3",
   "language": "python",
   "name": "python3"
  },
  "language_info": {
   "codemirror_mode": {
    "name": "ipython",
    "version": 3
   },
   "file_extension": ".py",
   "mimetype": "text/x-python",
   "name": "python",
   "nbconvert_exporter": "python",
   "pygments_lexer": "ipython3",
   "version": "3.8.8"
  }
 },
 "nbformat": 4,
 "nbformat_minor": 5
}
